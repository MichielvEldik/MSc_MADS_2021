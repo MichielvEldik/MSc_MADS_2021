{
 "cells": [
  {
   "cell_type": "code",
   "execution_count": 2,
   "metadata": {},
   "outputs": [],
   "source": [
    "import spacy\n",
    "import pandas as pd\n",
    "import math"
   ]
  },
  {
   "cell_type": "code",
   "execution_count": 3,
   "metadata": {},
   "outputs": [],
   "source": [
    "nlp = spacy.load(\"pt_core_news_sm\")"
   ]
  },
  {
   "cell_type": "code",
   "execution_count": 4,
   "metadata": {},
   "outputs": [],
   "source": [
    "def lemma_function(df, write_name):\n",
    "    sub_df = df\n",
    "    sub_df = sub_df\n",
    "    lemma_listje = []\n",
    "    seperator = \" \"\n",
    "    for i in sub_df.iloc[:,1][sub_df.iloc[:,1].notna() == True]:\n",
    "        i = nlp(i)\n",
    "        interim_listje = []\n",
    "        for word in i:\n",
    "            interim_listje.append(word.lemma_)\n",
    "        interim_listje = seperator.join(interim_listje)\n",
    "        lemma_listje.append(interim_listje)\n",
    "    nan_indices = sub_df.loc[pd.notna(sub_df[\"review_comment_{}\".format(write_name)]), :].index\n",
    "    d = {write_name:lemma_listje, 'index':nan_indices}\n",
    "    new_df = pd.DataFrame(d)\n",
    "    new_df.to_csv('lemmatized_{}.csv'.format(write_name))"
   ]
  },
  {
   "cell_type": "code",
   "execution_count": 20,
   "metadata": {},
   "outputs": [],
   "source": [
    "df_message = pd.read_csv('/home/mitchy123/Documents/MSc_MADS_2021/for_spacy_message.csv')"
   ]
  },
  {
   "cell_type": "code",
   "execution_count": 5,
   "metadata": {},
   "outputs": [],
   "source": [
    "df_title = pd.read_csv('/home/mitchy123/Documents/MSc_MADS_2021/for_spacy_title.csv')"
   ]
  },
  {
   "cell_type": "code",
   "execution_count": 6,
   "metadata": {},
   "outputs": [],
   "source": [
    "lemma_function(df_title, 'title')"
   ]
  },
  {
   "cell_type": "code",
   "execution_count": 21,
   "metadata": {},
   "outputs": [],
   "source": [
    "lemma_function(df_message, 'message')"
   ]
  }
 ],
 "metadata": {
  "kernelspec": {
   "display_name": "Python 3",
   "language": "python",
   "name": "python3"
  },
  "language_info": {
   "codemirror_mode": {
    "name": "ipython",
    "version": 3
   },
   "file_extension": ".py",
   "mimetype": "text/x-python",
   "name": "python",
   "nbconvert_exporter": "python",
   "pygments_lexer": "ipython3",
   "version": "3.8.3"
  }
 },
 "nbformat": 4,
 "nbformat_minor": 4
}
